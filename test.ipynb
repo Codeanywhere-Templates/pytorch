{
  "cells": [
    {
      "cell_type": "markdown",
      "id": "d7dd0fe8",
      "metadata": {},
      "source": [
        "# Codeanywhere PyTorch Template: Image Adventures!\n",
        "\n",
        "Welcome to the exciting world of PyTorch on Codeanywhere! This template is your springboard for creating amazing image classification projects. We'll use the FashionMNIST dataset – think of it as a stylish alternative to the classic MNIST digits – to get you started.\n",
        "\n",
        "In this interactive notebook, you'll learn how to:\n",
        "\n",
        "*   **Load a Dataset:** Grab FashionMNIST and prepare it for our fashion-forward model.\n",
        "*   **Build a Neural Network:** Create a simple but effective network to recognize clothing items.\n",
        "*   **Train Your Model:** Teach your network to identify different types of clothes with a fun training loop.\n",
        "*   **Test It Out:** See your model in action by testing it on new images. How well does it perform?\n",
        "\n",
        "Ready to become an AI fashionista? Let's dive in!\n",
        "\n",
        "The code is based on the [Pytorch build a model tutorial](https://pytorch.org/tutorials/beginner/basics/buildmodel_tutorial.html). You can find more help on the links below:\n",
        "\n",
        "[Learn the Basics](intro.html) ||\n",
        "[Quickstart](quickstart_tutorial.html) ||\n",
        "[Tensors](tensorqs_tutorial.html) ||\n",
        "[Datasets & DataLoaders](data_tutorial.html) ||\n",
        "[Transforms](transforms_tutorial.html) ||\n",
        "**Build Model** ||\n",
        "[Autograd](autogradqs_tutorial.html) ||\n",
        "[Optimization](optimization_tutorial.html) ||\n",
        "[Save & Load Model](saveloadrun_tutorial.html)\n",
        "\n",
        "# Building the Neural Network\n",
        "\n",
        "Neural networks are made up of layers/modules that perform operations on data. The [torch.nn](https://pytorch.org/docs/stable/nn.html) namespace provides all the building blocks you need to create your own neural networks. Every module in PyTorch subclasses the [nn.Module](https://pytorch.org/docs/stable/generated/torch.nn.Module.html). A neural network itself is a module consisting of other modules (layers). This nested structure makes it easy to build and manage complex architectures.\n",
        "\n",
        "In the following sections, we'll build a neural network to classify images in the FashionMNIST dataset."
      ]
    },
    {
      "cell_type": "code",
      "execution_count": 1,
      "id": "5c7ea956",
      "metadata": {},
      "outputs": [],
      "source": [
        "import os\n",
        "import torch\n",
        "from torch import nn\n",
        "from torch.utils.data import DataLoader\n",
        "from torchvision import datasets, transforms\n",
        "import matplotlib.pyplot as plt\n",
        "import random"
      ]
    },
    {
      "cell_type": "markdown",
      "id": "53f81fef",
      "metadata": {},
      "source": [
        "## Getting a Device\n",
        "We want to train our model on a hardware accelerator like the GPU, if available. Let's check if [torch.cuda](https://pytorch.org/docs/stable/notes/cuda.html) or [torch.backends.mps](https://pytorch.org/docs/stable/notes/mps.html) are available; otherwise, we'll use the CPU. Codeanywhere may not have GPU support, but we're always looking to improve. Keep an eye out for future updates!\n"
      ]
    },
    {
      "cell_type": "code",
      "execution_count": 2,
      "id": "26e90c82",
      "metadata": {},
      "outputs": [
        {
          "name": "stdout",
          "output_type": "stream",
          "text": [
            "Using cpu device\n"
          ]
        }
      ],
      "source": [
        "device = (\n",
        "    \"cuda\"\n",
        "    if torch.cuda.is_available()\n",
        "    else \"mps\"\n",
        "    if torch.backends.mps.is_available()\n",
        "    else \"cpu\"\n",
        ")\n",
        "print(f\"Using {device} device\")"
      ]
    },
    {
      "cell_type": "markdown",
      "id": "bfcdf3ea",
      "metadata": {},
      "source": [
        "## Defining Our Neural Network\n",
        "We define our neural network by subclassing `nn.Module` and initializing the neural network layers in `__init__`. Every `nn.Module` subclass implements the operations on input data in the `forward` method."
      ]
    },
    {
      "cell_type": "code",
      "execution_count": 4,
      "id": "517f98d5",
      "metadata": {},
      "outputs": [],
      "source": [
        "class NeuralNetwork(nn.Module):\n",
        "    def __init__(self):\n",
        "        super().__init__()\n",
        "        self.flatten = nn.Flatten()\n",
        "        self.linear_relu_stack = nn.Sequential(\n",
        "            nn.Linear(28*28, 512),\n",
        "            nn.ReLU(),\n",
        "            nn.Linear(512, 512),\n",
        "            nn.ReLU(),\n",
        "            nn.Linear(512, 10),\n",
        "        )\n",
        "\n",
        "    def forward(self, x):\n",
        "        x = self.flatten(x)\n",
        "        logits = self.linear_relu_stack(x)\n",
        "        return logits"
      ]
    },
    {
      "cell_type": "markdown",
      "id": "98c7b9fe",
      "metadata": {},
      "source": [
        "Let's create an instance of `NeuralNetwork`, move it to our `device`, and print its structure."
      ]
    },
    {
      "cell_type": "code",
      "execution_count": 5,
      "id": "994e05df",
      "metadata": {},
      "outputs": [
        {
          "name": "stdout",
          "output_type": "stream",
          "text": [
            "NeuralNetwork(\n",
            "  (flatten): Flatten(start_dim=1, end_dim=-1)\n",
            "  (linear_relu_stack): Sequential(\n",
            "    (0): Linear(in_features=784, out_features=512, bias=True)\n",
            "    (1): ReLU()\n",
            "    (2): Linear(in_features=512, out_features=512, bias=True)\n",
            "    (3): ReLU()\n",
            "    (4): Linear(in_features=512, out_features=10, bias=True)\n",
            "  )\n",
            ")\n"
          ]
        }
      ],
      "source": [
        "model = NeuralNetwork().to(device)\n",
        "print(model)"
      ]
    },
    {
      "cell_type": "markdown",
      "id": "50d23871",
      "metadata": {},
      "source": [
        "To use the model, we pass it the input data. This executes the model's `forward` method, along with some [background operations](https://github.com/pytorch/pytorch/blob/270111b7b611d174967ed204776985cefca9c144/torch/nn/modules/module.py#L866). Do not call `model.forward()` directly!\n",
        "\n",
        "Calling the model on the input returns a 2-dimensional tensor with dim=0 corresponding to each output of 10 raw predicted values for each class, and dim=1 corresponding to the individual values of each output. We get the prediction probabilities by passing it through an instance of the `nn.Softmax` module."
      ]
    },
    {
      "cell_type": "code",
      "execution_count": 6,
      "id": "008111eb",
      "metadata": {},
      "outputs": [
        {
          "name": "stdout",
          "output_type": "stream",
          "text": [
            "Predicted class: tensor([5])\n"
          ]
        }
      ],
      "source": [
        "X = torch.rand(1, 28, 28, device=device)\n",
        "logits = model(X)\n",
        "pred_probab = nn.Softmax(dim=1)(logits)\n",
        "y_pred = pred_probab.argmax(1)\n",
        "print(f\"Predicted class: {y_pred}\")"
      ]
    },
    {
      "cell_type": "markdown",
      "id": "39a1a661",
      "metadata": {},
      "source": [
        "## Let's dive deeper..."
      ]
    },
    {
      "cell_type": "markdown",
      "id": "a013ffe0",
      "metadata": {},
      "source": [
        "## Inside the Model Layers\n",
        "\n",
        "Let's break down the layers in the FashionMNIST model. To illustrate, we'll take a minibatch of 3 images of size 28x28 and see what happens as we pass it through the network."
      ]
    },
    {
      "cell_type": "code",
      "execution_count": 7,
      "id": "6a93e021",
      "metadata": {},
      "outputs": [
        {
          "name": "stdout",
          "output_type": "stream",
          "text": [
            "torch.Size([3, 28, 28])\n"
          ]
        }
      ],
      "source": [
        "input_image = torch.rand(3,28,28)\n",
        "print(input_image.size())"
      ]
    },
    {
      "cell_type": "markdown",
      "id": "e725655e",
      "metadata": {},
      "source": [
        "### nn.Flatten\n",
        "We initialize the [nn.Flatten](https://pytorch.org/docs/stable/generated/torch.nn.Flatten.html) layer to convert each 2D 28x28 image into a contiguous array of 784 pixel values. The minibatch dimension (at dim=0) is maintained."
      ]
    },
    {
      "cell_type": "code",
      "execution_count": 8,
      "id": "6814e018",
      "metadata": {},
      "outputs": [
        {
          "name": "stdout",
          "output_type": "stream",
          "text": [
            "torch.Size([3, 784])\n"
          ]
        }
      ],
      "source": [
        "flatten = nn.Flatten()\n",
        "flat_image = flatten(input_image)\n",
        "print(flat_image.size())"
      ]
    },
    {
      "cell_type": "markdown",
      "id": "4a1a6326",
      "metadata": {},
      "source": [
        "### nn.Linear\n",
        "The [linear layer](https://pytorch.org/docs/stable/generated/torch.nn.Linear.html) is a module that applies a linear transformation on the input using its stored weights and biases."
      ]
    },
    {
      "cell_type": "code",
      "execution_count": 9,
      "id": "6e493f27",
      "metadata": {},
      "outputs": [
        {
          "name": "stdout",
          "output_type": "stream",
          "text": [
            "torch.Size([3, 20])\n"
          ]
        }
      ],
      "source": [
        "layer1 = nn.Linear(in_features=28*28, out_features=20)\n",
        "hidden1 = layer1(flat_image)\n",
        "print(hidden1.size())"
      ]
    },
    {
      "cell_type": "markdown",
      "id": "12be25f4",
      "metadata": {},
      "source": [
        "### nn.ReLU\n",
        "Non-linear activations create complex mappings between the model's inputs and outputs. They're applied after linear transformations to introduce *nonlinearity*, helping neural networks learn a wide variety of phenomena.\n",
        "\n",
        "In this model, we use [nn.ReLU](https://pytorch.org/docs/stable/generated/torch.nn.ReLU.html) between our linear layers, but there are other activations to introduce non-linearity in your model."
      ]
    },
    {
      "cell_type": "code",
      "execution_count": 10,
      "id": "e6e94d29",
      "metadata": {},
      "outputs": [
        {
          "name": "stdout",
          "output_type": "stream",
          "text": [
            "Before ReLU: tensor([[ 0.1303, -0.5613, -0.3949, -0.6929, -0.1348,  0.1154, -0.2406,  0.3619,\n",
            "          0.5881,  0.2623,  0.3514,  0.5677,  0.1782,  0.0356,  0.4069,  0.3533,\n",
            "          0.5149,  0.0952, -0.4752, -0.0681],\n",
            "        [-0.1170, -0.4391, -0.3786, -0.4422, -0.3309,  0.2875, -0.0599,  0.3436,\n",
            "          0.0188,  0.0482,  0.2469,  0.5170,  0.1130, -0.1083,  0.2070,  0.5028,\n",
            "          0.4380,  0.4970, -0.1499,  0.0453],\n",
            "        [ 0.1608, -0.0213, -0.5352, -0.4438, -0.3030,  0.2627, -0.3845,  0.4610,\n",
            "          0.4875, -0.0167,  0.3671,  0.2532,  0.5871, -0.2612,  0.6852,  0.1095,\n",
            "          0.5559,  0.1164, -0.0975, -0.1654]], grad_fn=<AddmmBackward0>)\n",
            "\n",
            "\n",
            "After ReLU: tensor([[0.1303, 0.0000, 0.0000, 0.0000, 0.0000, 0.1154, 0.0000, 0.3619, 0.5881,\n",
            "         0.2623, 0.3514, 0.5677, 0.1782, 0.0356, 0.4069, 0.3533, 0.5149, 0.0952,\n",
            "         0.0000, 0.0000],\n",
            "        [0.0000, 0.0000, 0.0000, 0.0000, 0.0000, 0.2875, 0.0000, 0.3436, 0.0188,\n",
            "         0.0482, 0.2469, 0.5170, 0.1130, 0.0000, 0.2070, 0.5028, 0.4380, 0.4970,\n",
            "         0.0000, 0.0453],\n",
            "        [0.1608, 0.0000, 0.0000, 0.0000, 0.0000, 0.2627, 0.0000, 0.4610, 0.4875,\n",
            "         0.0000, 0.3671, 0.2532, 0.5871, 0.0000, 0.6852, 0.1095, 0.5559, 0.1164,\n",
            "         0.0000, 0.0000]], grad_fn=<ReluBackward0>)\n"
          ]
        }
      ],
      "source": [
        "print(f\"Before ReLU: {hidden1}\\n\\n\")\n",
        "hidden1 = nn.ReLU()(hidden1)\n",
        "print(f\"After ReLU: {hidden1}\")"
      ]
    },
    {
      "cell_type": "markdown",
      "id": "555ab1ea",
      "metadata": {},
      "source": [
        "### nn.Sequential\n",
        "[nn.Sequential](https://pytorch.org/docs/stable/generated/torch.nn.Sequential.html) is an ordered container of modules. The data is passed through all the modules in the same order as defined. You can use sequential containers to quickly assemble a network like `seq_modules`."
      ]
    },
    {
      "cell_type": "code",
      "execution_count": 11,
      "id": "ff0829a1",
      "metadata": {},
      "outputs": [],
      "source": [
        "seq_modules = nn.Sequential(\n",
        "    flatten,\n",
        "    layer1,\n",
        "    nn.ReLU(),\n",
        "    nn.Linear(20, 10)\n",
        ")\n",
        "input_image = torch.rand(3,28,28)\n",
        "logits = seq_modules(input_image)"
      ]
    },
    {
      "cell_type": "markdown",
      "id": "787b533a",
      "metadata": {},
      "source": [
        "### nn.Softmax\n",
        "The last linear layer of the neural network returns `logits` - raw values in [-\\infty, \\infty] - which are passed to the [nn.Softmax](https://pytorch.org/docs/stable/generated/torch.nn.Softmax.html) module. The logits are scaled to values [0, 1], representing the model's predicted probabilities for each class. The `dim` parameter indicates the dimension along which the values must sum to 1."
      ]
    },
    {
      "cell_type": "code",
      "execution_count": 12,
      "id": "48ea2ef1",
      "metadata": {},
      "outputs": [],
      "source": [
        "softmax = nn.Softmax(dim=1)\n",
        "pred_probab = softmax(logits)"
      ]
    },
    {
      "cell_type": "markdown",
      "id": "f979dfe5",
      "metadata": {},
      "source": [
        "## Model Parameters\n",
        "Many layers inside a neural network are *parameterized*, meaning they have associated weights and biases that are optimized during training. Subclassing `nn.Module` automatically tracks all fields defined inside your model object and makes all parameters accessible using your model's `parameters()` or `named_parameters()` methods.\n",
        "\n",
        "In this example, we iterate over each parameter and print its size and a preview of its values."
      ]
    },
    {
      "cell_type": "code",
      "execution_count": 13,
      "id": "ea06f082",
      "metadata": {},
      "outputs": [
        {
          "name": "stdout",
          "output_type": "stream",
          "text": [
            "Model structure: NeuralNetwork(\n",
            "  (flatten): Flatten(start_dim=1, end_dim=-1)\n",
            "  (linear_relu_stack): Sequential(\n",
            "    (0): Linear(in_features=784, out_features=512, bias=True)\n",
            "    (1): ReLU()\n",
            "    (2): Linear(in_features=512, out_features=512, bias=True)\n",
            "    (3): ReLU()\n",
            "    (4): Linear(in_features=512, out_features=10, bias=True)\n",
            "  )\n",
            ")\n",
            "\n",
            "\n",
            "Layer: linear_relu_stack.0.weight | Size: torch.Size([512, 784]) | Values : tensor([[-0.0138, -0.0053,  0.0144,  ...,  0.0058, -0.0207,  0.0056],\n",
            "        [-0.0178,  0.0031,  0.0229,  ..., -0.0165, -0.0021, -0.0288]],\n",
            "       grad_fn=<SliceBackward0>) \n",
            "\n",
            "Layer: linear_relu_stack.0.bias | Size: torch.Size([512]) | Values : tensor([ 0.0174, -0.0116], grad_fn=<SliceBackward0>) \n",
            "\n",
            "Layer: linear_relu_stack.2.weight | Size: torch.Size([512, 512]) | Values : tensor([[ 0.0342, -0.0220, -0.0131,  ...,  0.0407,  0.0292,  0.0416],\n",
            "        [ 0.0146,  0.0287, -0.0278,  ..., -0.0286, -0.0241,  0.0252]],\n",
            "       grad_fn=<SliceBackward0>) \n",
            "\n",
            "Layer: linear_relu_stack.2.bias | Size: torch.Size([512]) | Values : tensor([ 0.0156, -0.0256], grad_fn=<SliceBackward0>) \n",
            "\n",
            "Layer: linear_relu_stack.4.weight | Size: torch.Size([10, 512]) | Values : tensor([[ 0.0347, -0.0412, -0.0416,  ...,  0.0014, -0.0088,  0.0143],\n",
            "        [ 0.0199,  0.0214,  0.0330,  ...,  0.0285, -0.0173, -0.0391]],\n",
            "       grad_fn=<SliceBackward0>) \n",
            "\n",
            "Layer: linear_relu_stack.4.bias | Size: torch.Size([10]) | Values : tensor([0.0237, 0.0139], grad_fn=<SliceBackward0>) \n",
            "\n"
          ]
        }
      ],
      "source": [
        "print(f\"Model structure: {model}\\n\\n\")\n",
        "\n",
        "for name, param in model.named_parameters():\n",
        "    print(f\"Layer: {name} | Size: {param.size()} | Values : {param[:2]} \\n\")"
      ]
    },
    {
      "cell_type": "markdown",
      "id": "1a67929d",
      "metadata": {},
      "source": [
        "## Training Time!\n",
        "Now let's set up the training loop. First, we'll need a few more things:"
      ]
    },
    {
      "cell_type": "code",
      "execution_count": 14,
      "id": "db68c8a1",
      "metadata": {},
      "outputs": [],
      "source": [
        "learning_rate = 1e-3\n",
        "loss_fn = nn.CrossEntropyLoss()\n",
        "optimizer = torch.optim.Adam(model.parameters(), lr=learning_rate)"
      ]
    },
    {
      "cell_type": "markdown",
      "id": "14d04b16",
      "metadata": {},
      "source": [
        "Define the loop functions"
      ]
    },
    {
      "cell_type": "code",
      "execution_count": 15,
      "id": "6dedf9d7",
      "metadata": {},
      "outputs": [],
      "source": [
        "def train(dataloader, model, loss_fn, optimizer):\n",
        "    size = len(dataloader.dataset)\n",
        "    model.train()  # Set the model to training mode\n",
        "    for batch, (X, y) in enumerate(dataloader):\n",
        "        X, y = X.to(device), y.to(device)\n",
        "\n",
        "        # Compute prediction error\n",
        "        pred = model(X)\n",
        "        loss = loss_fn(pred, y)\n",
        "\n",
        "        # Backpropagation\n",
        "        loss.backward()\n",
        "        optimizer.step()\n",
        "        optimizer.zero_grad()\n",
        "\n",
        "        if batch % 100 == 0:\n",
        "            loss, current = loss.item(), (batch + 1) * len(X)\n",
        "            print(f\"loss: {loss:>7f}  [{current:>5d}/{size:>5d}]\")\n",
        "\n",
        "def test(dataloader, model, loss_fn):\n",
        "    size = len(dataloader.dataset)\n",
        "    num_batches = len(dataloader)\n",
        "    model.eval() # Set the model to evaluation mode\n",
        "    test_loss, correct = 0, 0\n",
        "    with torch.no_grad(): # Disable gradient calculation during inference\n",
        "        for X, y in dataloader:\n",
        "            X, y = X.to(device), y.to(device)\n",
        "            pred = model(X)\n",
        "            test_loss += loss_fn(pred, y).item()\n",
        "            correct += (pred.argmax(1) == y).type(torch.float).sum().item()\n",
        "    test_loss /= num_batches\n",
        "    correct /= size\n",
        "    print(f\"Test Error: \\n Accuracy: {(100*correct):>0.1f}%, Avg loss: {test_loss:>8f} \\n\")"
      ]
    },
    {
      "cell_type": "markdown",
      "id": "94ca5472",
      "metadata": {},
      "source": [
        "Now download and prepare the dataset\n"
      ]
    },
    {
      "cell_type": "code",
      "execution_count": 17,
      "id": "cdd1b982",
      "metadata": {},
      "outputs": [
        {
          "data": {
            "image/png": "[encoded data removed]",
            "text/plain": [
              "<Figure size 800x800 with 9 Axes>"
            ]
          },
          "metadata": {},
          "output_type": "display_data"
        }
      ],
      "source": [
        "# Define the transformations\n",
        "transform = transforms.Compose([\n",
        "    transforms.ToTensor(), # Convert images to tensors\n",
        "    transforms.Normalize((0.5,), (0.5,)) # Normalize pixel values\n",
        "])\n",
        "\n",
        "# Download the training and testing datasets\n",
        "training_data = datasets.FashionMNIST(\n",
        "    root=\"data\",\n",
        "    train=True,\n",
        "    download=True,\n",
        "    transform=transform\n",
        ")\n",
        "\n",
        "test_data = datasets.FashionMNIST(\n",
        "    root=\"data\",\n",
        "    train=False,\n",
        "    download=True,\n",
        "    transform=transform\n",
        ")\n",
        "\n",
        "# Create data loaders\n",
        "batch_size = 64 # Feel free to play with this\n",
        "\n",
        "train_dataloader = DataLoader(training_data, batch_size=batch_size, shuffle=True)\n",
        "test_dataloader = DataLoader(test_data, batch_size=batch_size, shuffle=False)\n",
        "\n",
        "#Let's see a sample of the training data\n",
        "labels_map = {\n",
        "    0: \"T-Shirt\",\n",
        "    1: \"Trouser\",\n",
        "    2: \"Pullover\",\n",
        "    3: \"Dress\",\n",
        "    4: \"Coat\",\n",
        "    5: \"Sandal\",\n",
        "    6: \"Shirt\",\n",
        "    7: \"Sneaker\",\n",
        "    8: \"Bag\",\n",
        "    9: \"Ankle Boot\",\n",
        "}\n",
        "figure = plt.figure(figsize=(8, 8))\n",
        "cols, rows = 3, 3\n",
        "for i in range(1, cols * rows + 1):\n",
        "    sample_idx = torch.randint(0, len(training_data), size=(1,)).item()\n",
        "    img, label = training_data[sample_idx]\n",
        "    figure.add_subplot(rows, cols, i)\n",
        "    plt.title(labels_map[label])\n",
        "    plt.axis(\"off\")\n",
        "    plt.imshow(img.squeeze(), cmap=\"gray\")\n",
        "plt.show()"
      ]
    },
    {
      "cell_type": "markdown",
      "id": "53cef55a",
      "metadata": {},
      "source": [
        "## Run the Training\n"
      ]
    },
    {
      "cell_type": "code",
      "execution_count": 18,
      "id": "493739a9",
      "metadata": {},
      "outputs": [
        {
          "name": "stdout",
          "output_type": "stream",
          "text": [
            "Epoch 1\n",
            "-------------------------------\n",
            "loss: 2.290299  [   64/60000]\n",
            "loss: 0.609681  [ 6464/60000]\n",
            "loss: 0.749833  [12864/60000]\n",
            "loss: 0.609402  [19264/60000]\n",
            "loss: 0.541104  [25664/60000]\n",
            "loss: 0.324502  [32064/60000]\n",
            "loss: 0.363463  [38464/60000]\n",
            "loss: 0.374478  [44864/60000]\n",
            "loss: 0.519624  [51264/60000]\n",
            "loss: 0.400313  [57664/60000]\n",
            "Test Error: \n",
            " Accuracy: 84.1%, Avg loss: 0.424580 \n",
            "\n",
            "Epoch 2\n",
            "-------------------------------\n",
            "loss: 0.397284  [   64/60000]\n",
            "loss: 0.466658  [ 6464/60000]\n",
            "loss: 0.412603  [12864/60000]\n",
            "loss: 0.231276  [19264/60000]\n",
            "loss: 0.360087  [25664/60000]\n",
            "loss: 0.460931  [32064/60000]\n",
            "loss: 0.279574  [38464/60000]\n",
            "loss: 0.154793  [44864/60000]\n",
            "loss: 0.417327  [51264/60000]\n",
            "loss: 0.481906  [57664/60000]\n",
            "Test Error: \n",
            " Accuracy: 85.6%, Avg loss: 0.390744 \n",
            "\n",
            "Epoch 3\n",
            "-------------------------------\n",
            "loss: 0.379842  [   64/60000]\n",
            "loss: 0.421258  [ 6464/60000]\n",
            "loss: 0.411265  [12864/60000]\n",
            "loss: 0.498947  [19264/60000]\n",
            "loss: 0.330954  [25664/60000]\n",
            "loss: 0.211228  [32064/60000]\n",
            "loss: 0.130180  [38464/60000]\n",
            "loss: 0.311582  [44864/60000]\n",
            "loss: 0.236166  [51264/60000]\n",
            "loss: 0.457521  [57664/60000]\n",
            "Test Error: \n",
            " Accuracy: 86.5%, Avg loss: 0.367170 \n",
            "\n",
            "Epoch 4\n",
            "-------------------------------\n",
            "loss: 0.184324  [   64/60000]\n",
            "loss: 0.472259  [ 6464/60000]\n",
            "loss: 0.297844  [12864/60000]\n",
            "loss: 0.324914  [19264/60000]\n",
            "loss: 0.322557  [25664/60000]\n",
            "loss: 0.174774  [32064/60000]\n",
            "loss: 0.434424  [38464/60000]\n",
            "loss: 0.283783  [44864/60000]\n",
            "loss: 0.391537  [51264/60000]\n",
            "loss: 0.290734  [57664/60000]\n",
            "Test Error: \n",
            " Accuracy: 87.2%, Avg loss: 0.365481 \n",
            "\n",
            "Epoch 5\n",
            "-------------------------------\n",
            "loss: 0.418602  [   64/60000]\n",
            "loss: 0.191322  [ 6464/60000]\n",
            "loss: 0.402260  [12864/60000]\n",
            "loss: 0.202441  [19264/60000]\n",
            "loss: 0.360561  [25664/60000]\n",
            "loss: 0.140205  [32064/60000]\n",
            "loss: 0.219856  [38464/60000]\n",
            "loss: 0.175639  [44864/60000]\n",
            "loss: 0.169901  [51264/60000]\n",
            "loss: 0.196436  [57664/60000]\n",
            "Test Error: \n",
            " Accuracy: 88.1%, Avg loss: 0.336988 \n",
            "\n",
            "Done!\n"
          ]
        }
      ],
      "source": [
        "epochs = 5 #A typical training will involve a lot more epochs, but for demonstration purposes i'll keep it short\n",
        "for t in range(epochs):\n",
        "    print(f\"Epoch {t+1}\\n-------------------------------\")\n",
        "    train(train_dataloader, model, loss_fn, optimizer)\n",
        "    test(test_dataloader, model, loss_fn)\n",
        "print(\"Done!\")"
      ]
    },
    {
      "cell_type": "markdown",
      "id": "2028ff2a",
      "metadata": {},
      "source": [
        "## Seeing the Results (Inference)\n",
        "\n",
        "Now that we have a trained model, let's see how it performs on some new images from the test dataset. We'll pick a random image and see what the model predicts."
      ]
    },
    {
      "cell_type": "code",
      "execution_count": 19,
      "id": "ea695965",
      "metadata": {},
      "outputs": [
        {
          "name": "stdout",
          "output_type": "stream",
          "text": [
            "Predicted: \"Ankle Boot\", Actual: \"Ankle Boot\"\n"
          ]
        },
        {
          "data": {
            "image/png": "[encoded data removed]",
            "text/plain": [
              "<Figure size 640x480 with 1 Axes>"
            ]
          },
          "metadata": {},
          "output_type": "display_data"
        }
      ],
      "source": [
        "# Get a batch of test images\n",
        "X, y = next(iter(test_dataloader))\n",
        "X, y = X.to(device), y.to(device)\n",
        "\n",
        "# Make predictions\n",
        "model.eval() #Set the model to evaluation mode\n",
        "with torch.no_grad():\n",
        "    pred = model(X)\n",
        "    predicted, actual = labels_map[pred.argmax(1)[0].item()], labels_map[y[0].item()]\n",
        "    print(f'Predicted: \"{predicted}\", Actual: \"{actual}\"')\n",
        "\n",
        "plt.imshow(X[0].cpu().squeeze(), cmap=\"gray\")\n",
        "plt.show()"
      ]
    },
    {
      "cell_type": "markdown",
      "id": "b3de1a39",
      "metadata": {},
      "source": [
        "## Saving the Model (Persistence)\n",
        "\n",
        "Let's save our trained model so we can use it later without retraining."
      ]
    },
    {
      "cell_type": "code",
      "execution_count": 20,
      "id": "07117246",
      "metadata": {},
      "outputs": [
        {
          "name": "stdout",
          "output_type": "stream",
          "text": [
            "Saved PyTorch Model State to fashion_model.pth\n"
          ]
        }
      ],
      "source": [
        "torch.save(model.state_dict(), \"fashion_model.pth\")\n",
        "print(\"Saved PyTorch Model State to fashion_model.pth\")"
      ]
    },
    {
      "cell_type": "markdown",
      "id": "10af5716",
      "metadata": {},
      "source": [
        "## Wrapping Up!\n",
        "\n",
        "Congratulations! You've built and trained a fashion classification model using PyTorch and Codeanywhere. This is just the beginning. Experiment with different network architectures, training parameters, and datasets to create even more amazing AI applications!"
      ]
    },
    {
      "cell_type": "markdown",
      "id": "b938064f",
      "metadata": {},
      "source": [
        "## Further Reading\n",
        "- [torch.nn API](https://pytorch.org/docs/stable/nn.html)"
      ]
    }
  ],
  "metadata": {
    "kernelspec": {
      "display_name": "base",
      "language": "python",
      "name": "python3"
    },
    "language_info": {
      "codemirror_mode": {
        "name": "ipython",
        "version": 3
      },
      "file_extension": ".py",
      "mimetype": "text/x-python",
      "name": "python",
      "nbconvert_exporter": "python",
      "pygments_lexer": "ipython3",
      "version": "3.12.9"
    }
  },
  "nbformat": 4,
  "nbformat_minor": 5
}
